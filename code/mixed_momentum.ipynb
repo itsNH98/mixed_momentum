{
 "cells": [
  {
   "cell_type": "markdown",
   "metadata": {},
   "source": [
    "# Mixed Momentum Strategy\n",
    "\n",
    "Author: Nicolas Harvie "
   ]
  },
  {
   "cell_type": "code",
   "execution_count": 170,
   "metadata": {},
   "outputs": [],
   "source": [
    "import pandas as pd\n",
    "import numpy as np\n",
    "import matplotlib.pyplot as plt\n",
    "import statsmodels.api as sm\n",
    "from datetime import timedelta\n",
    "import pandas_datareader as pdr\n",
    "\n",
    "from warnings import filterwarnings\n",
    "filterwarnings('ignore')\n",
    "\n",
    "path_intermediate = '../yilin_material/'"
   ]
  },
  {
   "cell_type": "code",
   "execution_count": 2,
   "metadata": {},
   "outputs": [
    {
     "data": {
      "text/html": [
       "<div>\n",
       "<style scoped>\n",
       "    .dataframe tbody tr th:only-of-type {\n",
       "        vertical-align: middle;\n",
       "    }\n",
       "\n",
       "    .dataframe tbody tr th {\n",
       "        vertical-align: top;\n",
       "    }\n",
       "\n",
       "    .dataframe thead th {\n",
       "        text-align: right;\n",
       "    }\n",
       "</style>\n",
       "<table border=\"1\" class=\"dataframe\">\n",
       "  <thead>\n",
       "    <tr style=\"text-align: right;\">\n",
       "      <th></th>\n",
       "      <th>permno</th>\n",
       "      <th>ret</th>\n",
       "      <th>prc</th>\n",
       "      <th>shrcd</th>\n",
       "      <th>exchcd</th>\n",
       "      <th>sicCRSP</th>\n",
       "      <th>ticker</th>\n",
       "      <th>time_avail_m</th>\n",
       "      <th>mve_c</th>\n",
       "      <th>gvkey</th>\n",
       "      <th>sicCS</th>\n",
       "      <th>tickerIBES</th>\n",
       "      <th>NYSE</th>\n",
       "      <th>bh1m</th>\n",
       "    </tr>\n",
       "  </thead>\n",
       "  <tbody>\n",
       "    <tr>\n",
       "      <th>0</th>\n",
       "      <td>10000.0</td>\n",
       "      <td>NaN</td>\n",
       "      <td>-4.375000</td>\n",
       "      <td>10.0</td>\n",
       "      <td>3.0</td>\n",
       "      <td>3990.0</td>\n",
       "      <td>OMFGA</td>\n",
       "      <td>1986-01-01</td>\n",
       "      <td>1.610000e+01</td>\n",
       "      <td>NaN</td>\n",
       "      <td>NaN</td>\n",
       "      <td>NaN</td>\n",
       "      <td>0.0</td>\n",
       "      <td>-0.257143</td>\n",
       "    </tr>\n",
       "    <tr>\n",
       "      <th>1</th>\n",
       "      <td>10000.0</td>\n",
       "      <td>-0.257143</td>\n",
       "      <td>-3.250000</td>\n",
       "      <td>10.0</td>\n",
       "      <td>3.0</td>\n",
       "      <td>3990.0</td>\n",
       "      <td>OMFGA</td>\n",
       "      <td>1986-02-01</td>\n",
       "      <td>1.196000e+01</td>\n",
       "      <td>NaN</td>\n",
       "      <td>NaN</td>\n",
       "      <td>NaN</td>\n",
       "      <td>0.0</td>\n",
       "      <td>0.365385</td>\n",
       "    </tr>\n",
       "    <tr>\n",
       "      <th>2</th>\n",
       "      <td>10000.0</td>\n",
       "      <td>0.365385</td>\n",
       "      <td>-4.437500</td>\n",
       "      <td>10.0</td>\n",
       "      <td>3.0</td>\n",
       "      <td>3990.0</td>\n",
       "      <td>OMFGA</td>\n",
       "      <td>1986-03-01</td>\n",
       "      <td>1.633000e+01</td>\n",
       "      <td>NaN</td>\n",
       "      <td>NaN</td>\n",
       "      <td>NaN</td>\n",
       "      <td>0.0</td>\n",
       "      <td>-0.098592</td>\n",
       "    </tr>\n",
       "    <tr>\n",
       "      <th>3</th>\n",
       "      <td>10000.0</td>\n",
       "      <td>-0.098592</td>\n",
       "      <td>-4.000000</td>\n",
       "      <td>10.0</td>\n",
       "      <td>3.0</td>\n",
       "      <td>3990.0</td>\n",
       "      <td>OMFGA</td>\n",
       "      <td>1986-04-01</td>\n",
       "      <td>1.517200e+01</td>\n",
       "      <td>NaN</td>\n",
       "      <td>NaN</td>\n",
       "      <td>NaN</td>\n",
       "      <td>0.0</td>\n",
       "      <td>-0.222656</td>\n",
       "    </tr>\n",
       "    <tr>\n",
       "      <th>4</th>\n",
       "      <td>10000.0</td>\n",
       "      <td>-0.222656</td>\n",
       "      <td>-3.109375</td>\n",
       "      <td>10.0</td>\n",
       "      <td>3.0</td>\n",
       "      <td>3990.0</td>\n",
       "      <td>OMFGA</td>\n",
       "      <td>1986-05-01</td>\n",
       "      <td>1.179386e+01</td>\n",
       "      <td>NaN</td>\n",
       "      <td>NaN</td>\n",
       "      <td>NaN</td>\n",
       "      <td>0.0</td>\n",
       "      <td>-0.005025</td>\n",
       "    </tr>\n",
       "    <tr>\n",
       "      <th>...</th>\n",
       "      <td>...</td>\n",
       "      <td>...</td>\n",
       "      <td>...</td>\n",
       "      <td>...</td>\n",
       "      <td>...</td>\n",
       "      <td>...</td>\n",
       "      <td>...</td>\n",
       "      <td>...</td>\n",
       "      <td>...</td>\n",
       "      <td>...</td>\n",
       "      <td>...</td>\n",
       "      <td>...</td>\n",
       "      <td>...</td>\n",
       "      <td>...</td>\n",
       "    </tr>\n",
       "    <tr>\n",
       "      <th>3879455</th>\n",
       "      <td>93436.0</td>\n",
       "      <td>0.027612</td>\n",
       "      <td>1144.760010</td>\n",
       "      <td>11.0</td>\n",
       "      <td>3.0</td>\n",
       "      <td>9999.0</td>\n",
       "      <td>TSLA</td>\n",
       "      <td>2021-11-01</td>\n",
       "      <td>1.149642e+06</td>\n",
       "      <td>184996.0</td>\n",
       "      <td>3711.0</td>\n",
       "      <td>TSLA</td>\n",
       "      <td>0.0</td>\n",
       "      <td>-0.076855</td>\n",
       "    </tr>\n",
       "    <tr>\n",
       "      <th>3879456</th>\n",
       "      <td>93436.0</td>\n",
       "      <td>-0.076855</td>\n",
       "      <td>1056.780029</td>\n",
       "      <td>11.0</td>\n",
       "      <td>3.0</td>\n",
       "      <td>9999.0</td>\n",
       "      <td>TSLA</td>\n",
       "      <td>2021-12-01</td>\n",
       "      <td>1.092218e+06</td>\n",
       "      <td>184996.0</td>\n",
       "      <td>3711.0</td>\n",
       "      <td>TSLA</td>\n",
       "      <td>0.0</td>\n",
       "      <td>-0.113609</td>\n",
       "    </tr>\n",
       "    <tr>\n",
       "      <th>3879457</th>\n",
       "      <td>93436.0</td>\n",
       "      <td>-0.113609</td>\n",
       "      <td>936.719971</td>\n",
       "      <td>11.0</td>\n",
       "      <td>3.0</td>\n",
       "      <td>9999.0</td>\n",
       "      <td>TSLA</td>\n",
       "      <td>2022-01-01</td>\n",
       "      <td>9.681319e+05</td>\n",
       "      <td>184996.0</td>\n",
       "      <td>3711.0</td>\n",
       "      <td>TSLA</td>\n",
       "      <td>0.0</td>\n",
       "      <td>-0.070768</td>\n",
       "    </tr>\n",
       "    <tr>\n",
       "      <th>3879458</th>\n",
       "      <td>93436.0</td>\n",
       "      <td>-0.070768</td>\n",
       "      <td>870.429993</td>\n",
       "      <td>11.0</td>\n",
       "      <td>3.0</td>\n",
       "      <td>9999.0</td>\n",
       "      <td>TSLA</td>\n",
       "      <td>2022-02-01</td>\n",
       "      <td>8.996190e+05</td>\n",
       "      <td>184996.0</td>\n",
       "      <td>3711.0</td>\n",
       "      <td>TSLA</td>\n",
       "      <td>0.0</td>\n",
       "      <td>0.238009</td>\n",
       "    </tr>\n",
       "    <tr>\n",
       "      <th>3879459</th>\n",
       "      <td>93436.0</td>\n",
       "      <td>0.238009</td>\n",
       "      <td>1077.599976</td>\n",
       "      <td>11.0</td>\n",
       "      <td>3.0</td>\n",
       "      <td>9999.0</td>\n",
       "      <td>TSLA</td>\n",
       "      <td>2022-03-01</td>\n",
       "      <td>1.113736e+06</td>\n",
       "      <td>184996.0</td>\n",
       "      <td>3711.0</td>\n",
       "      <td>TSLA</td>\n",
       "      <td>0.0</td>\n",
       "      <td>NaN</td>\n",
       "    </tr>\n",
       "  </tbody>\n",
       "</table>\n",
       "<p>3879460 rows × 14 columns</p>\n",
       "</div>"
      ],
      "text/plain": [
       "          permno       ret          prc  shrcd  exchcd  sicCRSP ticker  \\\n",
       "0        10000.0       NaN    -4.375000   10.0     3.0   3990.0  OMFGA   \n",
       "1        10000.0 -0.257143    -3.250000   10.0     3.0   3990.0  OMFGA   \n",
       "2        10000.0  0.365385    -4.437500   10.0     3.0   3990.0  OMFGA   \n",
       "3        10000.0 -0.098592    -4.000000   10.0     3.0   3990.0  OMFGA   \n",
       "4        10000.0 -0.222656    -3.109375   10.0     3.0   3990.0  OMFGA   \n",
       "...          ...       ...          ...    ...     ...      ...    ...   \n",
       "3879455  93436.0  0.027612  1144.760010   11.0     3.0   9999.0   TSLA   \n",
       "3879456  93436.0 -0.076855  1056.780029   11.0     3.0   9999.0   TSLA   \n",
       "3879457  93436.0 -0.113609   936.719971   11.0     3.0   9999.0   TSLA   \n",
       "3879458  93436.0 -0.070768   870.429993   11.0     3.0   9999.0   TSLA   \n",
       "3879459  93436.0  0.238009  1077.599976   11.0     3.0   9999.0   TSLA   \n",
       "\n",
       "        time_avail_m         mve_c     gvkey   sicCS tickerIBES  NYSE  \\\n",
       "0         1986-01-01  1.610000e+01       NaN     NaN        NaN   0.0   \n",
       "1         1986-02-01  1.196000e+01       NaN     NaN        NaN   0.0   \n",
       "2         1986-03-01  1.633000e+01       NaN     NaN        NaN   0.0   \n",
       "3         1986-04-01  1.517200e+01       NaN     NaN        NaN   0.0   \n",
       "4         1986-05-01  1.179386e+01       NaN     NaN        NaN   0.0   \n",
       "...              ...           ...       ...     ...        ...   ...   \n",
       "3879455   2021-11-01  1.149642e+06  184996.0  3711.0       TSLA   0.0   \n",
       "3879456   2021-12-01  1.092218e+06  184996.0  3711.0       TSLA   0.0   \n",
       "3879457   2022-01-01  9.681319e+05  184996.0  3711.0       TSLA   0.0   \n",
       "3879458   2022-02-01  8.996190e+05  184996.0  3711.0       TSLA   0.0   \n",
       "3879459   2022-03-01  1.113736e+06  184996.0  3711.0       TSLA   0.0   \n",
       "\n",
       "             bh1m  \n",
       "0       -0.257143  \n",
       "1        0.365385  \n",
       "2       -0.098592  \n",
       "3       -0.222656  \n",
       "4       -0.005025  \n",
       "...           ...  \n",
       "3879455 -0.076855  \n",
       "3879456 -0.113609  \n",
       "3879457 -0.070768  \n",
       "3879458  0.238009  \n",
       "3879459       NaN  \n",
       "\n",
       "[3879460 rows x 14 columns]"
      ]
     },
     "execution_count": 2,
     "metadata": {},
     "output_type": "execute_result"
    }
   ],
   "source": [
    "signals_master = pd.read_csv(path_intermediate + 'SignalMasterTable.csv', index_col=['Unnamed: 0'], parse_dates=['time_avail_m'])\n",
    "signals_master"
   ]
  },
  {
   "cell_type": "code",
   "execution_count": 3,
   "metadata": {},
   "outputs": [],
   "source": [
    "monthly_crsp = pd.read_csv(path_intermediate + 'monthlyCRSP.csv')\n",
    "monthly_crsp['date'] = pd.to_datetime(monthly_crsp['date'])"
   ]
  },
  {
   "cell_type": "code",
   "execution_count": 4,
   "metadata": {},
   "outputs": [],
   "source": [
    "def define_universe(file):\n",
    "    # Load the list of permno values from the text file\n",
    "    with open(file, 'r') as file:\n",
    "        permno_list = [int(line.strip()) for line in file]\n",
    "\n",
    "    # Filter the DataFrame based on permno values\n",
    "    universe = monthly_crsp[monthly_crsp['permno'].isin(permno_list)]\n",
    "    return universe"
   ]
  },
  {
   "cell_type": "code",
   "execution_count": 5,
   "metadata": {},
   "outputs": [],
   "source": [
    "sp500_monthly_crsp = define_universe('sp500_permnos.txt')"
   ]
  },
  {
   "cell_type": "markdown",
   "metadata": {},
   "source": [
    "***\n",
    "## Firm-Age Momentum Signal\n",
    "\n",
    "The sample period is from January 1983 to December 2001 (Zhang, 2006, 114)"
   ]
  },
  {
   "cell_type": "code",
   "execution_count": 11,
   "metadata": {},
   "outputs": [],
   "source": [
    "# New signal master to create the strategy dataframe \n",
    "strat_df = monthly_crsp.copy()"
   ]
  },
  {
   "cell_type": "code",
   "execution_count": 12,
   "metadata": {},
   "outputs": [],
   "source": [
    "# Convert to first of next month to eventually merge with RDQ data \n",
    "def first_day_of_next_month(date):\n",
    "    next_month = date.replace(day=1) + pd.DateOffset(months=1)\n",
    "    return next_month\n",
    "\n",
    "strat_df['date'] = strat_df['date'].apply(first_day_of_next_month)"
   ]
  },
  {
   "cell_type": "code",
   "execution_count": 50,
   "metadata": {},
   "outputs": [],
   "source": [
    "strat_df = pd.read_csv('./strat_df.csv', parse_dates=['date'])"
   ]
  },
  {
   "cell_type": "code",
   "execution_count": 51,
   "metadata": {},
   "outputs": [],
   "source": [
    "start_date = '1983-01-01'\n",
    "end_date = '2001-01-01'\n",
    "strat_df = strat_df[(strat_df['date'] >= start_date) & (strat_df['date'] <= end_date)]"
   ]
  },
  {
   "cell_type": "code",
   "execution_count": 53,
   "metadata": {},
   "outputs": [],
   "source": [
    "# Getting logarithmic returns for summability\n",
    "strat_df['logret'] = np.log(1 + strat_df['ret'])\n",
    "\n",
    "# Computing Cumulative Returns over past period for Momentum \n",
    "# Window is flexible, we use 12 months as per the literature\n",
    "strat_df['firm_mom'] = strat_df.groupby('permno')['logret'].shift(1).rolling(window=11).sum().reset_index(level=0, drop=True)"
   ]
  },
  {
   "cell_type": "markdown",
   "metadata": {},
   "source": [
    "***\n",
    "## Announcement Returns"
   ]
  },
  {
   "cell_type": "code",
   "execution_count": 54,
   "metadata": {},
   "outputs": [],
   "source": [
    "# Homemade CSV containing earnings data for all equities in a given timeperiod\n",
    "earnings = pd.read_csv('./earnings.csv')\n",
    "earnings = earnings.dropna(subset=['rdq', 'epsfxq'])\n",
    "\n",
    "# Linking Table\n",
    "ccm = pd.read_csv('../yilin_material/CCMLinkingTable.csv')"
   ]
  },
  {
   "cell_type": "code",
   "execution_count": 55,
   "metadata": {},
   "outputs": [],
   "source": [
    "# Linking the tables\n",
    "mm_df = strat_df.merge(ccm, on = 'permno', suffixes=('', '_y'))\n",
    "mm_df.drop(mm_df.filter(regex='_y$').columns.tolist(),axis=1, inplace=True)\n",
    "mm_df['timeLinkStart_d'] = pd.to_datetime(mm_df['timeLinkStart_d'])\n",
    "mm_df['timeLinkEnd_d'] = pd.to_datetime(mm_df['timeLinkEnd_d'])\n",
    "mm_df['temp'] = 0\n",
    "mm_df['temp'].loc[(mm_df['timeLinkStart_d']<=mm_df['date']) & ((mm_df['date']<=mm_df['timeLinkEnd_d']) | (mm_df['timeLinkEnd_d'].isnull()))] = 1\n",
    "mm_df['temp'].value_counts(normalize=True) * 100 # check the frequency \n",
    "mm_df = mm_df.loc[mm_df['temp']==1]\n",
    "mm_df.drop(columns=['temp','timeLinkStart_d','timeLinkEnd_d'], inplace=True)"
   ]
  },
  {
   "cell_type": "code",
   "execution_count": 56,
   "metadata": {},
   "outputs": [],
   "source": [
    "### EARNINGS RATIO CALCULATION ###\n",
    "\n",
    "# Taking the difference over the EPS for each asset \n",
    "earnings['diff_eps'] = earnings.groupby('gvkey')['epsfxq'].diff(4)\n",
    "earnings = earnings.dropna(subset='diff_eps')\n",
    "\n",
    "# Rolling standard deviation over the past differences \n",
    "earnings['std_diff_eps'] = earnings['diff_eps'].rolling(4).std()\n",
    "\n",
    "# SUE \n",
    "earnings['sue'] = earnings['diff_eps'] / earnings['std_diff_eps']\n",
    "earnings = earnings.dropna(subset='sue')"
   ]
  },
  {
   "cell_type": "code",
   "execution_count": 57,
   "metadata": {},
   "outputs": [],
   "source": [
    "# Dates to merge\n",
    "earnings['rdq'] = pd.to_datetime(earnings['rdq'])\n",
    "earnings['date'] = earnings['rdq'].apply(first_day_of_next_month)\n",
    "earnings.index = earnings['date']\n",
    "\n",
    "# Resample to forward fill the measures to match dates with the DF\n",
    "sue_df = earnings.groupby('gvkey')['sue'].resample('MS').first().ffill().reset_index()"
   ]
  },
  {
   "cell_type": "code",
   "execution_count": 104,
   "metadata": {},
   "outputs": [],
   "source": [
    "full_df = pd.merge(mm_df, sue_df, on=['gvkey', 'date'])"
   ]
  },
  {
   "cell_type": "code",
   "execution_count": 105,
   "metadata": {},
   "outputs": [],
   "source": [
    "# Some basic Filtering according to Zhang \n",
    "# Will eventually remove the values associated to those conditons\n",
    "condition = ((np.abs(full_df['prc'])<5) | (full_df['tempage']<12))\n",
    "full_df = full_df[~condition]"
   ]
  },
  {
   "cell_type": "code",
   "execution_count": 106,
   "metadata": {},
   "outputs": [],
   "source": [
    "# Counting firm age by cumulative count of PERMNOs\n",
    "# Proxy for Firm Age \n",
    "full_df.sort_values(['permno','date'], inplace=True)\n",
    "full_df['tempage'] = full_df.groupby(['permno']).cumcount()+1"
   ]
  },
  {
   "cell_type": "code",
   "execution_count": 143,
   "metadata": {},
   "outputs": [],
   "source": [
    "# Quantile Transform for momentum \n",
    "# Add an indicator variable which returns 1 if condition is met or zero otherwise \n",
    "# Will be helpful when we do the interaction of various conditions for the LS portfolio creation \n",
    "full_df['mom_high'] = full_df['firm_mom'] > full_df.groupby('date')['firm_mom'].transform('quantile', 0.8)\n",
    "full_df['mom_low'] = full_df['firm_mom'] < full_df.groupby('date')['firm_mom'].transform('quantile', 0.2)\n",
    "\n",
    "# Quantile Transform for age \n",
    "full_df['age_low'] = full_df['tempage'] < full_df.groupby('date')['tempage'].transform('quantile', 0.2)\n",
    "full_df['age_high'] = full_df['tempage'] > full_df.groupby('date')['tempage'].transform('quantile', 0.8)\n",
    "\n",
    "# Quantile Transform for age \n",
    "full_df['sue_low'] = full_df['sue'] < full_df.groupby('date')['sue'].transform('quantile', 0.2)\n",
    "full_df['sue_high'] = full_df['sue'] > full_df.groupby('date')['sue'].transform('quantile', 0.8)"
   ]
  },
  {
   "cell_type": "code",
   "execution_count": 242,
   "metadata": {},
   "outputs": [
    {
     "name": "stdout",
     "output_type": "stream",
     "text": [
      "Number of position taken long over the sample: 857\n",
      "Number of position taken short over the sample: 760\n",
      "Total number of positions taken over the sample: 1617\n"
     ]
    }
   ],
   "source": [
    "# Our buys \n",
    "buys = full_df[(full_df['age_low'] == True) & (full_df['mom_high'] == True) & (full_df['sue_high'] == True)][['permno', 'date', 'ret']]\n",
    "\n",
    "# Our sells \n",
    "sells = full_df[(full_df['age_high'] == True) & (full_df['mom_low'] == True) & (full_df['sue_low'] == True)][['permno', 'date', 'ret']]\n",
    "\n",
    "print(f'Number of position taken long over the sample: {len(buys)}')\n",
    "print(f'Number of position taken short over the sample: {len(sells)}')\n",
    "print(f'Total number of positions taken over the sample: {len(sells)+len(buys)}')"
   ]
  },
  {
   "cell_type": "code",
   "execution_count": 243,
   "metadata": {},
   "outputs": [],
   "source": [
    "# Fitting the dates with no returns \n",
    "index_dates = pd.date_range(start=start_date, end=end_date, freq='MS')\n",
    "\n",
    "# Create the Series\n",
    "buy_full = pd.Series(buys.groupby('date')['ret'].mean(), name='ret')\n",
    "sell_full = pd.Series(sells.groupby('date')['ret'].mean(), name='ret')\n",
    "\n",
    "# Reindex the series to have a common set of indices\n",
    "buy_full = buy_full.reindex(index_dates, fill_value=0)\n",
    "sell_full = sell_full.reindex(index_dates, fill_value=0)\n",
    "\n",
    "# Subtract the two Series\n",
    "LS = buy_full - sell_full"
   ]
  },
  {
   "cell_type": "code",
   "execution_count": 244,
   "metadata": {},
   "outputs": [],
   "source": [
    "# Benchmarking with the FF5\n",
    "FF_five_with_rf= pdr.get_data_famafrench('F-F_Research_Data_5_Factors_2x3', start='1900')[0]\n",
    "FF_five = FF_five_with_rf.drop(columns={'RF'}) / 100\n",
    "FF_five = FF_five.loc[(FF_five.index >= start_date) & (FF_five.index <= end_date)]\n",
    "FF_five.index = FF_five.index.to_timestamp()"
   ]
  },
  {
   "cell_type": "code",
   "execution_count": 245,
   "metadata": {},
   "outputs": [],
   "source": [
    "# Benchmarking with SP500\n",
    "sp500_rets = pd.read_csv('./sp500_rets.csv')\n",
    "sp500_rets['MthCalDt'] = pd.to_datetime(sp500_rets['MthCalDt'])\n",
    "sp500_rets['MthCalDt'] = sp500_rets['MthCalDt'].apply(first_day_of_next_month)\n",
    "sp500_rets = sp500_rets.set_index('MthCalDt')\n",
    "sp500_rets = sp500_rets.loc[(sp500_rets.index >= start_date) & (sp500_rets.index <= end_date)]"
   ]
  },
  {
   "cell_type": "code",
   "execution_count": 246,
   "metadata": {},
   "outputs": [
    {
     "name": "stdout",
     "output_type": "stream",
     "text": [
      "                            OLS Regression Results                            \n",
      "==============================================================================\n",
      "Dep. Variable:                    ret   R-squared:                       0.045\n",
      "Model:                            OLS   Adj. R-squared:                  0.041\n",
      "Method:                 Least Squares   F-statistic:                     6.818\n",
      "Date:                Thu, 17 Aug 2023   Prob (F-statistic):            0.00966\n",
      "Time:                        13:45:24   Log-Likelihood:                 113.27\n",
      "No. Observations:                 217   AIC:                            -222.5\n",
      "Df Residuals:                     215   BIC:                            -215.8\n",
      "Df Model:                           1                                         \n",
      "Covariance Type:                  HAC                                         \n",
      "==============================================================================\n",
      "                 coef    std err          z      P>|z|      [0.025      0.975]\n",
      "------------------------------------------------------------------------------\n",
      "const          0.0471      0.011      4.193      0.000       0.025       0.069\n",
      "MthTotRet      0.7304      0.280      2.611      0.009       0.182       1.279\n",
      "==============================================================================\n",
      "Omnibus:                      188.025   Durbin-Watson:                   1.610\n",
      "Prob(Omnibus):                  0.000   Jarque-Bera (JB):             2957.135\n",
      "Skew:                           3.370   Prob(JB):                         0.00\n",
      "Kurtosis:                      19.781   Cond. No.                         23.4\n",
      "==============================================================================\n",
      "\n",
      "Notes:\n",
      "[1] Standard Errors are heteroscedasticity and autocorrelation robust (HAC) using 5 lags and without small sample correction\n"
     ]
    }
   ],
   "source": [
    "Y = LS\n",
    "X = sm.add_constant(sp500_rets.iloc[:, 1])\n",
    "\n",
    "model = sm.OLS(Y, X).fit(cov_type='HAC', cov_kwds={'maxlags': 5})\n",
    "\n",
    "# Print the summary of the regression results\n",
    "print(model.summary())"
   ]
  },
  {
   "cell_type": "code",
   "execution_count": 247,
   "metadata": {},
   "outputs": [
    {
     "data": {
      "image/png": "[encoded data removed]",
      "text/plain": [
       "<Figure size 720x432 with 1 Axes>"
      ]
     },
     "metadata": {
      "needs_background": "light"
     },
     "output_type": "display_data"
    }
   ],
   "source": [
    "plt.figure(figsize=(10, 6))  # Adjust the figure size as needed\n",
    "plt.plot(result, linestyle='-', color='b', label='ret')  # Customize plot style\n",
    "\n",
    "# Add labels and title\n",
    "plt.xlabel('Date')\n",
    "plt.ylabel('Returns')\n",
    "plt.title('Returns Plot')\n",
    "plt.legend()\n",
    "plt.axhline(result.mean(), color='red', ls='--')\n",
    "\n",
    "\n",
    "# Show the plot\n",
    "plt.grid(True)\n",
    "plt.show()"
   ]
  },
  {
   "cell_type": "code",
   "execution_count": null,
   "metadata": {},
   "outputs": [],
   "source": []
  }
 ],
 "metadata": {
  "kernelspec": {
   "display_name": "ap",
   "language": "python",
   "name": "python3"
  },
  "language_info": {
   "codemirror_mode": {
    "name": "ipython",
    "version": 3
   },
   "file_extension": ".py",
   "mimetype": "text/x-python",
   "name": "python",
   "nbconvert_exporter": "python",
   "pygments_lexer": "ipython3",
   "version": "3.9.12"
  },
  "orig_nbformat": 4
 },
 "nbformat": 4,
 "nbformat_minor": 2
}
